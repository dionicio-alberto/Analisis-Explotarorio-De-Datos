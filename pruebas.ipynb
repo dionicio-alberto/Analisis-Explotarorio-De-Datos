{
 "cells": [
  {
   "cell_type": "code",
   "execution_count": 18,
   "metadata": {},
   "outputs": [
    {
     "name": "stdout",
     "output_type": "stream",
     "text": [
      "    name  age\n",
      "0  Sally   50\n",
      "1   Mary   40\n",
      "2   John   40\n",
      "3      a   40\n",
      "4     a3   30\n",
      "5      q   30 \n",
      "\n",
      "38.333333333333336\n",
      "0    40\n",
      "Name: age, dtype: int64\n"
     ]
    }
   ],
   "source": [
    "import pandas as pd\n",
    "\n",
    "def change_age(x):\n",
    "  x[\"age\"]=[10, 20, 30]\n",
    "  return x\n",
    "\n",
    "data = {\n",
    "  \"name\": [\"Sally\", \"Mary\", \"John\",'a','a3','q'],\n",
    "  \"age\": [50, 40, 40,40,30,30]\n",
    "}\n",
    "\n",
    "df = pd.DataFrame(data)\n",
    "print(df,'\\n')\n",
    "\n",
    "print(df.age.mean())\n",
    "print(df.age.mode())\n"
   ]
  }
 ],
 "metadata": {
  "kernelspec": {
   "display_name": "platzi",
   "language": "python",
   "name": "python3"
  },
  "language_info": {
   "codemirror_mode": {
    "name": "ipython",
    "version": 3
   },
   "file_extension": ".py",
   "mimetype": "text/x-python",
   "name": "python",
   "nbconvert_exporter": "python",
   "pygments_lexer": "ipython3",
   "version": "3.11.3"
  },
  "orig_nbformat": 4
 },
 "nbformat": 4,
 "nbformat_minor": 2
}
