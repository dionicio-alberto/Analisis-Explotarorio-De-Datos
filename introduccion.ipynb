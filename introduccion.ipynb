{
 "cells": [
  {
   "attachments": {},
   "cell_type": "markdown",
   "metadata": {},
   "source": [
    "# Curso de Análisis Explotario de Datos\n",
    "\n",
    "## Tipos de Análisis de datos\n",
    "\n",
    "Existen 4 etapas en el análisis de datos, las cuales son:\n",
    "\n",
    "- Descriptiva: ¿Qué sucedio? Provee de ideas sobre eventos del pasado.\n",
    "- Diagnostica: ¿Por qué sucedio? Profundiza para encontrar las cuasas del evento.\n",
    "- Predictiva: ¿Qué podría pasar si? Utiliza los datos del pasado para predicer un futuro evento.\n",
    "- Prescriptiva: ¿Qué deberia hacerse? Analiza las decisiones y eventos del pasado para estimar la probabilidad de diferentes resultados.\n",
    "\n",
    "> Todas las analíticas se van construyendo una sobre la otra por lo que lleva tiempo, es decir, no puedes pasar de la Descriptiva a la Predictiva sin antes pasar por la Diagnostica\n",
    "\n",
    ">A medida que vas pasando de una analitica a otra tambien incrementa la complejidad ya que necesitas entender los datos a un nivel mas preciso conforme vayas avanza"
   ]
  },
  {
   "attachments": {},
   "cell_type": "markdown",
   "metadata": {},
   "source": [
    "![Ejemplo del tiempo que uno gasta en los analisis](https://static.platzi.com/media/user_upload/graph14-cc19a641-824d-4a46-9a23-395f35c446ca.jpg)"
   ]
  },
  {
   "attachments": {},
   "cell_type": "markdown",
   "metadata": {},
   "source": [
    "## Tipos de daatos y análisis de variables\n",
    "\n",
    "![Tipos de datos](https://static.platzi.com/media/user_upload/graph15-859bfdfa-9c18-4fd6-bc58-b08851e7f7e5.jpg)\n",
    "\n",
    "Podemos ver en la imagen que existen dos grandes ramas en las que se dividen los datos: \n",
    "\n",
    "- Categóricos\n",
    "- Numéricos\n",
    "\n",
    "A continuación veremos mas sobre esta división\n",
    "\n",
    "### Categóricos\n",
    "\n",
    "Existen dos tipos dentro de esta categorias, los cuales se dividen asi en:\n",
    "\n",
    "- Ordinal\n",
    "- Nominal\n",
    "\n",
    "Ejemplo de estos serían:\n",
    "\n",
    "Género, a favor o en contra, nivel de estudios, categórias de películas, día de la semana, sabor, texturas\n",
    "\n",
    "### Numéricos\n",
    "\n",
    "- Discreto\n",
    "- Continuo\n",
    "\n",
    "Ejemplo de estos seria:\n",
    "\n",
    "Altura, peso, longitud, volumen, temperatura, humedad, edad, número de amigos, calificación"
   ]
  },
  {
   "attachments": {},
   "cell_type": "markdown",
   "metadata": {},
   "source": [
    "## Tipos de Analisis\n",
    " \n",
    "Los datos se pueden dividir de la siguiente forma dependiente del número de varibles que se estudian\n",
    "\n",
    "- Análisis Univariado\n",
    "- Análisis Bivariado\n",
    "- Análisis Multivariado"
   ]
  },
  {
   "attachments": {},
   "cell_type": "markdown",
   "metadata": {},
   "source": [
    "## Herramientas de software para el análisis exploratorio de datos\n",
    "\n",
    "![Herramientas para visualización de datos](https://live.staticflickr.com/65535/52920007719_a956803c28_w.jpg)"
   ]
  }
 ],
 "metadata": {
  "kernelspec": {
   "display_name": "base",
   "language": "python",
   "name": "python3"
  },
  "language_info": {
   "codemirror_mode": {
    "name": "ipython",
    "version": 3
   },
   "file_extension": ".py",
   "mimetype": "text/x-python",
   "name": "python",
   "nbconvert_exporter": "python",
   "pygments_lexer": "ipython3",
   "version": "3.10.9"
  },
  "orig_nbformat": 4
 },
 "nbformat": 4,
 "nbformat_minor": 2
}
